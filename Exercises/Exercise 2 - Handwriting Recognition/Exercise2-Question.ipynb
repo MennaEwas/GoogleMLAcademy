{
  "cells": [
    {
      "cell_type": "code",
      "metadata": {
        "id": "zX4Kg8DUTKWO"
      },
      "source": [
        "#@title Licensed under the Apache License, Version 2.0 (the \"License\");\n",
        "# you may not use this file except in compliance with the License.\n",
        "# You may obtain a copy of the License at\n",
        "#\n",
        "# https://www.apache.org/licenses/LICENSE-2.0\n",
        "#\n",
        "# Unless required by applicable law or agreed to in writing, software\n",
        "# distributed under the License is distributed on an \"AS IS\" BASIS,\n",
        "# WITHOUT WARRANTIES OR CONDITIONS OF ANY KIND, either express or implied.\n",
        "# See the License for the specific language governing permissions and\n",
        "# limitations under the License."
      ],
      "execution_count": null,
      "outputs": []
    },
    {
      "cell_type": "markdown",
      "metadata": {
        "id": "tOoyQ70H00_s"
      },
      "source": [
        "## Exercise 2\n",
        "In the course you learned how to do classification using Fashion MNIST, a data set containing items of clothing. There's another, similar dataset called MNIST which has items of handwriting -- the digits 0 through 9.\n",
        "\n",
        "Write an MNIST classifier that trains to 99% accuracy or above, and does it without a fixed number of epochs -- i.e. you should stop training once you reach that level of accuracy.\n",
        "\n",
        "Some notes:\n",
        "1. It should succeed in less than 10 epochs, so it is okay to change epochs to 10, but nothing larger\n",
        "2. When it reaches 99% or greater it should print out the string \"Reached 99% accuracy so cancelling training!\"\n",
        "3. If you add any additional variables, make sure you use the same names as the ones used in the class\n",
        "\n",
        "I've started the code for you below -- how would you finish it? "
      ]
    },
    {
      "cell_type": "code",
      "execution_count": 6,
      "metadata": {
        "colab": {
          "base_uri": "https://localhost:8080/"
        },
        "id": "9rvXQGAA0ssC",
        "outputId": "b6c2da25-458b-4eae-dc73-0b1eb7999669"
      },
      "outputs": [
        {
          "output_type": "stream",
          "name": "stdout",
          "text": [
            "Epoch 1/9\n",
            "1875/1875 [==============================] - 6s 3ms/step - loss: 0.2656 - accuracy: 0.9249\n",
            "Epoch 2/9\n",
            "1875/1875 [==============================] - 6s 3ms/step - loss: 0.1162 - accuracy: 0.9658\n",
            "Epoch 3/9\n",
            "1875/1875 [==============================] - 6s 3ms/step - loss: 0.0807 - accuracy: 0.9757\n",
            "Epoch 4/9\n",
            "1875/1875 [==============================] - 6s 3ms/step - loss: 0.0604 - accuracy: 0.9818\n",
            "Epoch 5/9\n",
            "1875/1875 [==============================] - 6s 3ms/step - loss: 0.0464 - accuracy: 0.9857\n",
            "Epoch 6/9\n",
            "1875/1875 [==============================] - 6s 3ms/step - loss: 0.0359 - accuracy: 0.9886\n",
            "Epoch 7/9\n",
            "1875/1875 [==============================] - 6s 3ms/step - loss: 0.0298 - accuracy: 0.9907\n",
            "Epoch 8/9\n",
            "1875/1875 [==============================] - 6s 3ms/step - loss: 0.0238 - accuracy: 0.9926\n",
            "Epoch 9/9\n",
            "1875/1875 [==============================] - 6s 3ms/step - loss: 0.0200 - accuracy: 0.9938\n",
            "313/313 [==============================] - 1s 2ms/step - loss: 0.0760 - accuracy: 0.9791\n",
            "[4.0831205e-10 1.4258120e-10 7.8586993e-08 8.6962991e-06 6.5362544e-14\n",
            " 2.0105810e-08 2.3055642e-12 9.9999106e-01 1.0871021e-08 1.4468247e-07] 7\n"
          ]
        }
      ],
      "source": [
        "# YOUR CODE SHOULD START HERE\n",
        "# YOUR CODE SHOULD END HERE\n",
        "import tensorflow as tf\n",
        "mnist = tf.keras.datasets.mnist\n",
        "\n",
        "(x_train, y_train),(x_test, y_test) = mnist.load_data()\n",
        "# YOUR CODE SHOULD START HERE\n",
        "x_train = x_train / 255.0\n",
        "x_test = x_test / 255.0\n",
        "\n",
        "# YOUR CODE SHOULD END HERE\n",
        "model = tf.keras.models.Sequential([tf.keras.layers.Flatten(), \n",
        "                                    tf.keras.layers.Dense(128,activation = tf.nn.relu),\n",
        "                                    tf.keras.layers.Dense(10,activation = tf.nn.softmax)])\n",
        "\n",
        "model.compile(optimizer='adam',\n",
        "              loss='sparse_categorical_crossentropy',\n",
        "              metrics=['accuracy'])\n",
        "\n",
        "# YOUR CODE SHOULD START HERE\n",
        "model.fit(x_train, y_train, epochs = 9)\n",
        "model.evaluate(x_test, y_test)\n",
        "# YOUR CODE SHOULD END HERE\n",
        "classification = model.predict(x_test)\n",
        "print(classification[0], y_test[0])"
      ]
    },
    {
      "cell_type": "code",
      "source": [
        "import tensorflow as tf\n",
        "mnist = tf.keras.datasets.mnist\n",
        "\n",
        "(x_train, y_train),(x_test, y_test) = mnist.load_data()\n",
        "x_train = x_train / 255.0\n",
        "x_test = x_test / 255.0\n",
        "#my callback class \n",
        "class myCallback(tf.keras.callbacks.Callback):\n",
        "  def on_epoch_end(self, epoch, logs={}):\n",
        "    if(logs.get('accuracy')>0.9):\n",
        "      print(\"\\nReached 90% accuracy so cancelling training!\")\n",
        "      self.model.stop_training = True\n",
        "\n",
        "\n",
        "callback = myCallback() #instance\n",
        "model = tf.keras.models.Sequential([tf.keras.layers.Flatten(), \n",
        "                                    tf.keras.layers.Dense(128,activation = tf.nn.relu),\n",
        "                                    tf.keras.layers.Dense(10,activation = tf.nn.softmax)])\n",
        "\n",
        "model.compile(optimizer='adam',\n",
        "              loss='sparse_categorical_crossentropy',\n",
        "              metrics=['accuracy'])\n",
        "\n",
        "# YOUR CODE SHOULD START HERE\n",
        "model.fit(x_train, y_train, epochs = 9, callbacks = [callback])\n",
        "model.evaluate(x_test, y_test)\n",
        "# YOUR CODE SHOULD END HERE\n",
        "classification = model.predict(x_test)\n",
        "print(classification[0], y_test[0])"
      ],
      "metadata": {
        "id": "EM74Ibj2TmQJ",
        "outputId": "9e1de51d-6de2-4f7f-be90-770cbf8c13e5",
        "colab": {
          "base_uri": "https://localhost:8080/"
        }
      },
      "execution_count": 9,
      "outputs": [
        {
          "output_type": "stream",
          "name": "stdout",
          "text": [
            "Epoch 1/9\n",
            "1874/1875 [============================>.] - ETA: 0s - loss: 0.2653 - accuracy: 0.9237\n",
            "Reached 90% accuracy so cancelling training!\n",
            "1875/1875 [==============================] - 7s 4ms/step - loss: 0.2652 - accuracy: 0.9237\n",
            "313/313 [==============================] - 1s 2ms/step - loss: 0.1503 - accuracy: 0.9575\n",
            "[4.0623374e-05 2.0063381e-07 8.1065293e-05 5.2532614e-03 5.5377303e-08\n",
            " 1.1156044e-05 2.9717346e-09 9.9445456e-01 3.2109605e-05 1.2692704e-04] 7\n"
          ]
        }
      ]
    },
    {
      "cell_type": "code",
      "source": [
        ""
      ],
      "metadata": {
        "id": "u__gXA0YkHec"
      },
      "execution_count": null,
      "outputs": []
    }
  ],
  "metadata": {
    "colab": {
      "collapsed_sections": [],
      "name": "Exercise2-Question.ipynb",
      "provenance": [],
      "toc_visible": true
    },
    "kernelspec": {
      "display_name": "Python 3",
      "name": "python3"
    }
  },
  "nbformat": 4,
  "nbformat_minor": 0
}